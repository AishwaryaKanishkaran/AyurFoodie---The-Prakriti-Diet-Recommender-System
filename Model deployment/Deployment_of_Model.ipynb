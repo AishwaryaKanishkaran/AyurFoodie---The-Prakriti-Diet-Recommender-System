{
  "nbformat": 4,
  "nbformat_minor": 0,
  "metadata": {
    "colab": {
      "provenance": []
    },
    "kernelspec": {
      "name": "python3",
      "display_name": "Python 3"
    },
    "language_info": {
      "name": "python"
    }
  },
  "cells": [
    {
      "cell_type": "markdown",
      "source": [
        "Importing the Dependencies"
      ],
      "metadata": {
        "id": "tkewCr01vRGN"
      }
    },
    {
      "cell_type": "code",
      "source": [
        "import pandas as pd\n",
        "import numpy as np\n",
        "from sklearn.model_selection import train_test_split, cross_val_score\n",
        "from sklearn.preprocessing import OneHotEncoder\n",
        "from sklearn.neural_network import MLPClassifier\n",
        "from sklearn.metrics import accuracy_score\n",
        "from sklearn.metrics import confusion_matrix\n",
        "import matplotlib.pyplot as plt\n",
        "import seaborn as sns"
      ],
      "metadata": {
        "id": "27TgAPh7vU4Z"
      },
      "execution_count": 45,
      "outputs": []
    },
    {
      "cell_type": "markdown",
      "source": [
        "Data Collection and Analysis"
      ],
      "metadata": {
        "id": "uh6wS5oWvbPL"
      }
    },
    {
      "cell_type": "code",
      "source": [
        "# Load the data from the CSV file\n",
        "df = pd.read_csv(\"/content/tridosha.csv\")\n"
      ],
      "metadata": {
        "id": "IJ2EU-LXvgVP"
      },
      "execution_count": 46,
      "outputs": []
    },
    {
      "cell_type": "code",
      "source": [
        "# Split the data into features and labels\n",
        "X = df.drop(\"Class\", axis=1)\n",
        "y = df[\"Class\"]"
      ],
      "metadata": {
        "id": "zUOR--nYvxFA"
      },
      "execution_count": 47,
      "outputs": []
    },
    {
      "cell_type": "markdown",
      "source": [
        "Training the Model"
      ],
      "metadata": {
        "id": "Xfx40YOiwD7y"
      }
    },
    {
      "cell_type": "code",
      "source": [
        "# Use OneHotEncoder to convert categorical data to numerical data\n",
        "encoder = OneHotEncoder()\n",
        "X_encoded = encoder.fit_transform(X)\n"
      ],
      "metadata": {
        "id": "EfRFS0dDv0AJ"
      },
      "execution_count": 48,
      "outputs": []
    },
    {
      "cell_type": "code",
      "source": [
        "# Split the data into training and testing sets\n",
        "X_train, X_test, y_train, y_test = train_test_split(X_encoded, y, test_size=0.2, random_state=42)"
      ],
      "metadata": {
        "id": "bXNF2zUpsFxC"
      },
      "execution_count": 49,
      "outputs": []
    },
    {
      "cell_type": "code",
      "source": [
        "# Train an MLPClassifier\n",
        "clf = MLPClassifier(hidden_layer_sizes=(10, 10, 10), max_iter=1000)\n",
        "# Fit the model on the entire training set\n",
        "clf.fit(X_train, y_train)"
      ],
      "metadata": {
        "colab": {
          "base_uri": "https://localhost:8080/",
          "height": 74
        },
        "id": "b5CG3xQ4wVvf",
        "outputId": "e05c46e9-8a85-4d1e-8be4-e0abcc77f6b8"
      },
      "execution_count": 50,
      "outputs": [
        {
          "output_type": "execute_result",
          "data": {
            "text/plain": [
              "MLPClassifier(hidden_layer_sizes=(10, 10, 10), max_iter=1000)"
            ],
            "text/html": [
              "<style>#sk-container-id-3 {color: black;background-color: white;}#sk-container-id-3 pre{padding: 0;}#sk-container-id-3 div.sk-toggleable {background-color: white;}#sk-container-id-3 label.sk-toggleable__label {cursor: pointer;display: block;width: 100%;margin-bottom: 0;padding: 0.3em;box-sizing: border-box;text-align: center;}#sk-container-id-3 label.sk-toggleable__label-arrow:before {content: \"▸\";float: left;margin-right: 0.25em;color: #696969;}#sk-container-id-3 label.sk-toggleable__label-arrow:hover:before {color: black;}#sk-container-id-3 div.sk-estimator:hover label.sk-toggleable__label-arrow:before {color: black;}#sk-container-id-3 div.sk-toggleable__content {max-height: 0;max-width: 0;overflow: hidden;text-align: left;background-color: #f0f8ff;}#sk-container-id-3 div.sk-toggleable__content pre {margin: 0.2em;color: black;border-radius: 0.25em;background-color: #f0f8ff;}#sk-container-id-3 input.sk-toggleable__control:checked~div.sk-toggleable__content {max-height: 200px;max-width: 100%;overflow: auto;}#sk-container-id-3 input.sk-toggleable__control:checked~label.sk-toggleable__label-arrow:before {content: \"▾\";}#sk-container-id-3 div.sk-estimator input.sk-toggleable__control:checked~label.sk-toggleable__label {background-color: #d4ebff;}#sk-container-id-3 div.sk-label input.sk-toggleable__control:checked~label.sk-toggleable__label {background-color: #d4ebff;}#sk-container-id-3 input.sk-hidden--visually {border: 0;clip: rect(1px 1px 1px 1px);clip: rect(1px, 1px, 1px, 1px);height: 1px;margin: -1px;overflow: hidden;padding: 0;position: absolute;width: 1px;}#sk-container-id-3 div.sk-estimator {font-family: monospace;background-color: #f0f8ff;border: 1px dotted black;border-radius: 0.25em;box-sizing: border-box;margin-bottom: 0.5em;}#sk-container-id-3 div.sk-estimator:hover {background-color: #d4ebff;}#sk-container-id-3 div.sk-parallel-item::after {content: \"\";width: 100%;border-bottom: 1px solid gray;flex-grow: 1;}#sk-container-id-3 div.sk-label:hover label.sk-toggleable__label {background-color: #d4ebff;}#sk-container-id-3 div.sk-serial::before {content: \"\";position: absolute;border-left: 1px solid gray;box-sizing: border-box;top: 0;bottom: 0;left: 50%;z-index: 0;}#sk-container-id-3 div.sk-serial {display: flex;flex-direction: column;align-items: center;background-color: white;padding-right: 0.2em;padding-left: 0.2em;position: relative;}#sk-container-id-3 div.sk-item {position: relative;z-index: 1;}#sk-container-id-3 div.sk-parallel {display: flex;align-items: stretch;justify-content: center;background-color: white;position: relative;}#sk-container-id-3 div.sk-item::before, #sk-container-id-3 div.sk-parallel-item::before {content: \"\";position: absolute;border-left: 1px solid gray;box-sizing: border-box;top: 0;bottom: 0;left: 50%;z-index: -1;}#sk-container-id-3 div.sk-parallel-item {display: flex;flex-direction: column;z-index: 1;position: relative;background-color: white;}#sk-container-id-3 div.sk-parallel-item:first-child::after {align-self: flex-end;width: 50%;}#sk-container-id-3 div.sk-parallel-item:last-child::after {align-self: flex-start;width: 50%;}#sk-container-id-3 div.sk-parallel-item:only-child::after {width: 0;}#sk-container-id-3 div.sk-dashed-wrapped {border: 1px dashed gray;margin: 0 0.4em 0.5em 0.4em;box-sizing: border-box;padding-bottom: 0.4em;background-color: white;}#sk-container-id-3 div.sk-label label {font-family: monospace;font-weight: bold;display: inline-block;line-height: 1.2em;}#sk-container-id-3 div.sk-label-container {text-align: center;}#sk-container-id-3 div.sk-container {/* jupyter's `normalize.less` sets `[hidden] { display: none; }` but bootstrap.min.css set `[hidden] { display: none !important; }` so we also need the `!important` here to be able to override the default hidden behavior on the sphinx rendered scikit-learn.org. See: https://github.com/scikit-learn/scikit-learn/issues/21755 */display: inline-block !important;position: relative;}#sk-container-id-3 div.sk-text-repr-fallback {display: none;}</style><div id=\"sk-container-id-3\" class=\"sk-top-container\"><div class=\"sk-text-repr-fallback\"><pre>MLPClassifier(hidden_layer_sizes=(10, 10, 10), max_iter=1000)</pre><b>In a Jupyter environment, please rerun this cell to show the HTML representation or trust the notebook. <br />On GitHub, the HTML representation is unable to render, please try loading this page with nbviewer.org.</b></div><div class=\"sk-container\" hidden><div class=\"sk-item\"><div class=\"sk-estimator sk-toggleable\"><input class=\"sk-toggleable__control sk-hidden--visually\" id=\"sk-estimator-id-3\" type=\"checkbox\" checked><label for=\"sk-estimator-id-3\" class=\"sk-toggleable__label sk-toggleable__label-arrow\">MLPClassifier</label><div class=\"sk-toggleable__content\"><pre>MLPClassifier(hidden_layer_sizes=(10, 10, 10), max_iter=1000)</pre></div></div></div></div></div>"
            ]
          },
          "metadata": {},
          "execution_count": 50
        }
      ]
    },
    {
      "cell_type": "markdown",
      "source": [
        "Model Evaluation - Accuracy Score"
      ],
      "metadata": {
        "id": "pu6NAV5IwYLI"
      }
    },
    {
      "cell_type": "code",
      "source": [
        "# Predict the labels for the training and testing sets\n",
        "y_pred_train = clf.predict(X_train)\n",
        "y_pred_test = clf.predict(X_test)\n"
      ],
      "metadata": {
        "id": "_knbDbB3wZ-t"
      },
      "execution_count": 51,
      "outputs": []
    },
    {
      "cell_type": "code",
      "source": [
        "# Calculate the accuracy of the classifier on the training and testing sets\n",
        "train_accuracy = accuracy_score(y_train, y_pred_train)\n",
        "test_accuracy = accuracy_score(y_test, y_pred_test)"
      ],
      "metadata": {
        "id": "eyNsdFlTx8Tu"
      },
      "execution_count": 52,
      "outputs": []
    },
    {
      "cell_type": "code",
      "source": [
        "\n",
        "print(\"Training Accuracy: {:.2f}%\".format(train_accuracy * 100))\n",
        "print(\"Testing Accuracy: {:.2f}%\".format(test_accuracy * 100))\n"
      ],
      "metadata": {
        "colab": {
          "base_uri": "https://localhost:8080/"
        },
        "id": "em8mabGvyF17",
        "outputId": "543a910e-9c1f-4c96-f3cb-eff1665c3790"
      },
      "execution_count": 53,
      "outputs": [
        {
          "output_type": "stream",
          "name": "stdout",
          "text": [
            "Training Accuracy: 100.00%\n",
            "Testing Accuracy: 100.00%\n"
          ]
        }
      ]
    },
    {
      "cell_type": "code",
      "source": [
        "# Calculate the validation accuracy using cross-validation\n",
        "scores = cross_val_score(clf, X_encoded, y, cv=5)\n",
        "print(\"Validation Accuracy: {:.2f}% (+/- {:.2f}%)\".format(scores.mean() * 100, scores.std() * 100))\n",
        "\n"
      ],
      "metadata": {
        "colab": {
          "base_uri": "https://localhost:8080/"
        },
        "id": "SpINSuIrMHYt",
        "outputId": "345c8ed4-2004-4401-b4e3-efd44ea7533a"
      },
      "execution_count": 54,
      "outputs": [
        {
          "output_type": "stream",
          "name": "stdout",
          "text": [
            "Validation Accuracy: 100.00% (+/- 0.00%)\n"
          ]
        }
      ]
    },
    {
      "cell_type": "code",
      "source": [
        "from sklearn.metrics import classification_report\n",
        "# Calculate the precision, recall, and F1-score for each class\n",
        "report = classification_report(y_test, y_pred_test)\n",
        "print(report)"
      ],
      "metadata": {
        "colab": {
          "base_uri": "https://localhost:8080/"
        },
        "id": "k6Sduy5yCB8a",
        "outputId": "b870e743-e7f8-46bf-d889-083d808c8e2e"
      },
      "execution_count": 33,
      "outputs": [
        {
          "output_type": "stream",
          "name": "stdout",
          "text": [
            "              precision    recall  f1-score   support\n",
            "\n",
            "       Kapha       1.00      1.00      1.00         8\n",
            "       Pitta       1.00      1.00      1.00        13\n",
            "        Vata       1.00      1.00      1.00        21\n",
            "\n",
            "    accuracy                           1.00        42\n",
            "   macro avg       1.00      1.00      1.00        42\n",
            "weighted avg       1.00      1.00      1.00        42\n",
            "\n"
          ]
        }
      ]
    },
    {
      "cell_type": "code",
      "source": [
        "import matplotlib.pyplot as plt\n",
        "import seaborn as sns\n",
        "\n",
        "# Generate confusion matrix for testing set\n",
        "cm = confusion_matrix(y_test, y_pred_test)\n",
        "print(\"Confusion Matrix:\")\n",
        "#print(cm)\n",
        "\n",
        "# Create a heatmap visualization of the confusion matrix\n",
        "sns.heatmap(cm, annot=True, fmt=\"d\", cmap=\"Blues\", \n",
        "            xticklabels=[\"V\", \"P\", \"K\"], yticklabels=[\"V\", \"P\", \"K\"])\n",
        "\n",
        "# Set the labels for the x and y axes\n",
        "plt.xlabel(\"Predicted Label\")\n",
        "plt.ylabel(\"True Label\")\n",
        "\n",
        "# Show the plot\n",
        "plt.show()"
      ],
      "metadata": {
        "colab": {
          "base_uri": "https://localhost:8080/",
          "height": 472
        },
        "id": "qXfR4Dmp9f1e",
        "outputId": "b1910a02-5cbd-4fdb-e6ae-22872f304e0d"
      },
      "execution_count": 55,
      "outputs": [
        {
          "output_type": "stream",
          "name": "stdout",
          "text": [
            "Confusion Matrix:\n"
          ]
        },
        {
          "output_type": "display_data",
          "data": {
            "text/plain": [
              "<Figure size 640x480 with 2 Axes>"
            ],
            "image/png": "[encoded data removed]"
          },
          "metadata": {}
        }
      ]
    },
    {
      "cell_type": "markdown",
      "source": [
        "Saving the trained Model"
      ],
      "metadata": {
        "id": "k7knyfqX6RGu"
      }
    },
    {
      "cell_type": "code",
      "source": [
        "import pickle"
      ],
      "metadata": {
        "id": "5YMB3YVG6U1_"
      },
      "execution_count": 56,
      "outputs": []
    },
    {
      "cell_type": "code",
      "source": [
        "\n",
        "filename= 'trained_model.pkl'\n",
        "pickle.dump(clf, open(filename,'wb'))"
      ],
      "metadata": {
        "id": "crqEp-D56n_Y"
      },
      "execution_count": 57,
      "outputs": []
    },
    {
      "cell_type": "code",
      "source": [
        "encoder_filename = 'encoder_model.pkl'\n",
        "pickle.dump(encoder, open(encoder_filename,'wb'))"
      ],
      "metadata": {
        "id": "xVMlZNP480qo"
      },
      "execution_count": 58,
      "outputs": []
    },
    {
      "cell_type": "code",
      "source": [
        "# load trained model\n",
        "loaded_model = pickle.load(open(filename,'rb'))"
      ],
      "metadata": {
        "id": "3LL3N1qK-nYM"
      },
      "execution_count": 59,
      "outputs": []
    },
    {
      "cell_type": "code",
      "source": [
        "# Load the encoder model\n",
        "loaded_encoder = pickle.load(open(encoder_filename, 'rb'))"
      ],
      "metadata": {
        "id": "_drFRBdT-o60"
      },
      "execution_count": 60,
      "outputs": []
    },
    {
      "cell_type": "markdown",
      "source": [
        "Making a Predictive System"
      ],
      "metadata": {
        "id": "KxHmh3Sgo4t4"
      }
    },
    {
      "cell_type": "code",
      "source": [
        "# Use the trained MLPClassifier to predict the class of new data\n",
        "new_data = {'Body Frame':['Medium'],\n",
        "       'Weight':['Low, Difficult to Put on Weight'],\n",
        "       'Skin Color and Complexion':['Pink to Red'],\n",
        "       'Skin Characteristics':['Dry, Rough'],\n",
        "       'Sweat':['sweat even in cold weather'],\n",
        "       'Head Hair':['Dry, Very Curly and with Splits End'],\n",
        "       'Nails':['soft, strong, somewhat rubbery and well formed'],\n",
        "       'Eyeball':['Unsteady, Fast Moving'],\n",
        "       'Size and Teeth Color':['Even teeth of medium size, Yellow, Orange or Red'],\n",
        "       'Eating Habit':['Eats Quickly Without Chewing Properly'],\n",
        "       'Hunger':['Sudden Hunger Pangs, Sharp Hunger'],\n",
        "       'Bowel Movements':['Dry, Hard, Blackish,Scanty Stools'],\n",
        "       'Intolerance to Weather Conditions':['Aversion to Heat'],\n",
        "       'Mood':['Changes quickly have frequent mood swings'],\n",
        "       'Body Energy':['Excellent Energy Throughout day not easily Fatigued'],\n",
        "       'Pulse':['Thin, Shallow and Fast with a Broken or Variable rhythm'],\n",
        "       'Sleep':['Sleep heavily, Lazy'],\n",
        "       'Dreams':['Dream a lot, often violent and forget their dreams easily'],\n",
        "       'Communication Skills':['Speak slowly and cautiously, without volunteering much.'],\n",
        "       'Quality of Voice':['Rough with broken words'],\n",
        "       'Social Relations':['Love to Socialize, Relationships are Longer Lasting'],\n",
        "       'Mental Activity':['Quick, Restless'],\n",
        "       'Memory':['Long Term, Best'],\n",
        "       'Grasping Power':['Grasps quickly but not completely and forgets quickly'],\n",
        "       'Joints':['Heavy Weight Bearing'],\n",
        "       'Walking Pace':['Quick, Fast with Long Steps'],\n",
        "       'Nature':['Forgiving, Greatful, Not Greedy'],\n",
        "       'Wealth':['Spends without thinking much'],\n",
        "       'Pace of Performing Work':['Slow, Steady'],\n",
        "       'Body Temperature':['Less than Normal, Hand and Feets are cold']}"
      ],
      "metadata": {
        "id": "CZMIBuZv8VQj"
      },
      "execution_count": 61,
      "outputs": []
    },
    {
      "cell_type": "code",
      "source": [
        "new_df = pd.DataFrame(new_data)"
      ],
      "metadata": {
        "id": "u_tAJJHfBLbE"
      },
      "execution_count": 62,
      "outputs": []
    },
    {
      "cell_type": "code",
      "source": [
        "# Use OneHotEncoder to convert the new data to numerical data\n",
        "new_encoded = loaded_encoder.transform(new_df)"
      ],
      "metadata": {
        "id": "Xad_TuezBQWv"
      },
      "execution_count": 63,
      "outputs": []
    },
    {
      "cell_type": "code",
      "source": [
        "# Predict the class of the new data\n",
        "y_pred_new = loaded_model.predict(new_encoded)\n",
        "\n",
        "\n",
        "print(\"Predicted class for new data: {}\".format(y_pred_new[0]))\n"
      ],
      "metadata": {
        "colab": {
          "base_uri": "https://localhost:8080/"
        },
        "id": "aEnFc7XUBRXw",
        "outputId": "3f2d421d-11df-4f5c-e310-6e10f4d27d5b"
      },
      "execution_count": 64,
      "outputs": [
        {
          "output_type": "stream",
          "name": "stdout",
          "text": [
            "Predicted class for new data: Vata\n"
          ]
        }
      ]
    },
    {
      "cell_type": "code",
      "source": [
        "# Define diet recommendations based on the predicted body state\n",
        "if y_pred_new[0] == \"Vata\":\n",
        "  print(\"Your a Vata type person\")\n",
        "  diet_recommendations = \"Favor warm, cooked foods and avoid cold, raw foods. Eat plenty of healthy fats and oils, and favor sweet, sour, and salty tastes. Avoid bitter, astringent, and pungent tastes. Drink warm beverages and avoid iced drinks. Good food choices include warm soups, stews, and casseroles; cooked grains such as rice, quinoa, and oats; cooked vegetables such as sweet potatoes, carrots, and beets; and ripe fruits such as bananas, mangoes, and avocados.\"\n",
        "\n",
        "elif y_pred_new[0] == \"Pitta\":\n",
        "  print(\"Your a Pitta type person\")\n",
        "  diet_recommendations = \"Favor cool, refreshing foods and avoid hot, spicy foods. Eat plenty of fruits and vegetables, and favor sweet, bitter, and astringent tastes. Avoid sour, salty, and pungent tastes. Drink cool or lukewarm beverages and avoid very hot or iced drinks. Good food choices include fresh salads, raw vegetables, and fresh fruits such as melons, grapes, and pears; cooked grains such as barley, basmati rice, and quinoa; and cooling herbs and spices such as mint, coriander, and fennel.\"\n",
        "\n",
        "elif y_pred_new[0] == \"Kapha\":\n",
        "  print(\"Your a Kapha type person\")\n",
        "  diet_recommendations = \"Favor warm, light foods and avoid heavy, oily foods. Eat plenty of vegetables and favor pungent, bitter, and astringent tastes. Avoid sweet, sour, and salty tastes. Drink warm or hot beverages and avoid cold or iced drinks. Good food choices include light soups, steamed vegetables, and cooked grains such as barley, quinoa, and millet; spicy and warming herbs and spices such as ginger, black pepper, and turmeric; and light fruits such as apples, pomegranates, and cranberries.\"\n",
        "\n",
        "print(\"Diet recommendations based on predicted body state: \", diet_recommendations)\n"
      ],
      "metadata": {
        "colab": {
          "base_uri": "https://localhost:8080/"
        },
        "id": "mq5esTg9BZYr",
        "outputId": "a4e8fc2a-a0a4-4a52-8682-26e597f6d4e3"
      },
      "execution_count": 65,
      "outputs": [
        {
          "output_type": "stream",
          "name": "stdout",
          "text": [
            "Your a Vata type person\n",
            "Diet recommendations based on predicted body state:  Favor warm, cooked foods and avoid cold, raw foods. Eat plenty of healthy fats and oils, and favor sweet, sour, and salty tastes. Avoid bitter, astringent, and pungent tastes. Drink warm beverages and avoid iced drinks. Good food choices include warm soups, stews, and casseroles; cooked grains such as rice, quinoa, and oats; cooked vegetables such as sweet potatoes, carrots, and beets; and ripe fruits such as bananas, mangoes, and avocados.\n"
          ]
        }
      ]
    }
  ]
}